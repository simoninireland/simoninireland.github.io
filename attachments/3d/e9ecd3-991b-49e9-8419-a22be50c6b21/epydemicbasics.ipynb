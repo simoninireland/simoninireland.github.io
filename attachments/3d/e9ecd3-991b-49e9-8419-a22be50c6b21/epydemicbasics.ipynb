{
  "nbformat": 4,
  "nbformat_minor": 0,
  "metadata": {
    "colab": {
      "provenance": []
    },
    "kernelspec": {
      "name": "python3",
      "display_name": "Python 3"
    },
    "language_info": {
      "name": "python"
    }
  },
  "cells": [
    {
      "cell_type": "markdown",
      "source": [
        "# Speed tests against a specific Colab GCE instance"
      ],
      "metadata": {
        "id": "dN3hwYxSXFd3"
      }
    },
    {
      "cell_type": "markdown",
      "source": [
        "This notebook runs a series of epidemic-spreading experiments using diffewrent network sizes and different target degrees of parallelism. The idea is to run the same experiments on different virtual machine instance types drawn from Google Compute Engine's repertoire to see hto what extent we can support compute-bound experiments."
      ],
      "metadata": {
        "id": "G7LPO5LLXNcJ"
      }
    },
    {
      "cell_type": "code",
      "source": [
        "!pip install epydemic"
      ],
      "metadata": {
        "colab": {
          "base_uri": "https://localhost:8080/"
        },
        "id": "4AfySEGd-jAT",
        "outputId": "48bbf80b-3527-47d0-e507-5a83ed697149"
      },
      "execution_count": null,
      "outputs": [
        {
          "output_type": "stream",
          "name": "stdout",
          "text": [
            "Requirement already satisfied: epydemic in /usr/local/lib/python3.7/dist-packages (1.12.1)\n",
            "Requirement already satisfied: scipy in /usr/local/lib/python3.7/dist-packages (from epydemic) (1.4.1)\n",
            "Requirement already satisfied: mpmath in /usr/local/lib/python3.7/dist-packages (from epydemic) (1.2.1)\n",
            "Requirement already satisfied: numpy>=1.18 in /usr/local/lib/python3.7/dist-packages (from epydemic) (1.21.5)\n",
            "Requirement already satisfied: epyc>=1.7.2 in /usr/local/lib/python3.7/dist-packages (from epydemic) (1.7.2)\n",
            "Requirement already satisfied: epydemicarchive-client in /usr/local/lib/python3.7/dist-packages (from epydemic) (0.2.1)\n",
            "Requirement already satisfied: python-dotenv in /usr/local/lib/python3.7/dist-packages (from epydemic) (0.21.0)\n",
            "Requirement already satisfied: networkx>=2.4 in /usr/local/lib/python3.7/dist-packages (from epydemic) (2.6.3)\n",
            "Requirement already satisfied: pandas in /usr/local/lib/python3.7/dist-packages (from epydemic) (1.3.5)\n",
            "Requirement already satisfied: click in /usr/local/lib/python3.7/dist-packages (from epyc>=1.7.2->epydemic) (7.1.2)\n",
            "Requirement already satisfied: pyzmq in /usr/local/lib/python3.7/dist-packages (from epyc>=1.7.2->epydemic) (22.3.0)\n",
            "Requirement already satisfied: joblib in /usr/local/lib/python3.7/dist-packages (from epyc>=1.7.2->epydemic) (1.1.0)\n",
            "Requirement already satisfied: cloudpickle in /usr/local/lib/python3.7/dist-packages (from epyc>=1.7.2->epydemic) (1.3.0)\n",
            "Requirement already satisfied: ipyparallel>=6.2.4 in /usr/local/lib/python3.7/dist-packages (from epyc>=1.7.2->epydemic) (8.4.1)\n",
            "Requirement already satisfied: h5py in /usr/local/lib/python3.7/dist-packages (from epyc>=1.7.2->epydemic) (3.1.0)\n",
            "Requirement already satisfied: requests in /usr/local/lib/python3.7/dist-packages (from epyc>=1.7.2->epydemic) (2.23.0)\n",
            "Requirement already satisfied: psutil in /usr/local/lib/python3.7/dist-packages (from ipyparallel>=6.2.4->epyc>=1.7.2->epydemic) (5.4.8)\n",
            "Requirement already satisfied: python-dateutil>=2.1 in /usr/local/lib/python3.7/dist-packages (from ipyparallel>=6.2.4->epyc>=1.7.2->epydemic) (2.8.2)\n",
            "Requirement already satisfied: tqdm in /usr/local/lib/python3.7/dist-packages (from ipyparallel>=6.2.4->epyc>=1.7.2->epydemic) (4.62.3)\n",
            "Requirement already satisfied: tornado>=5.1 in /usr/local/lib/python3.7/dist-packages (from ipyparallel>=6.2.4->epyc>=1.7.2->epydemic) (5.1.1)\n",
            "Requirement already satisfied: entrypoints in /usr/local/lib/python3.7/dist-packages (from ipyparallel>=6.2.4->epyc>=1.7.2->epydemic) (0.4)\n",
            "Requirement already satisfied: traitlets>=4.3 in /usr/local/lib/python3.7/dist-packages (from ipyparallel>=6.2.4->epyc>=1.7.2->epydemic) (5.1.1)\n",
            "Requirement already satisfied: decorator in /usr/local/lib/python3.7/dist-packages (from ipyparallel>=6.2.4->epyc>=1.7.2->epydemic) (4.4.2)\n",
            "Requirement already satisfied: ipython>=4 in /usr/local/lib/python3.7/dist-packages (from ipyparallel>=6.2.4->epyc>=1.7.2->epydemic) (5.5.0)\n",
            "Requirement already satisfied: jupyter-client in /usr/local/lib/python3.7/dist-packages (from ipyparallel>=6.2.4->epyc>=1.7.2->epydemic) (5.3.5)\n",
            "Requirement already satisfied: ipykernel>=4.4 in /usr/local/lib/python3.7/dist-packages (from ipyparallel>=6.2.4->epyc>=1.7.2->epydemic) (4.10.1)\n",
            "Requirement already satisfied: setuptools>=18.5 in /usr/local/lib/python3.7/dist-packages (from ipython>=4->ipyparallel>=6.2.4->epyc>=1.7.2->epydemic) (57.4.0)\n",
            "Requirement already satisfied: simplegeneric>0.8 in /usr/local/lib/python3.7/dist-packages (from ipython>=4->ipyparallel>=6.2.4->epyc>=1.7.2->epydemic) (0.8.1)\n",
            "Requirement already satisfied: pygments in /usr/local/lib/python3.7/dist-packages (from ipython>=4->ipyparallel>=6.2.4->epyc>=1.7.2->epydemic) (2.6.1)\n",
            "Requirement already satisfied: prompt-toolkit<2.0.0,>=1.0.4 in /usr/local/lib/python3.7/dist-packages (from ipython>=4->ipyparallel>=6.2.4->epyc>=1.7.2->epydemic) (1.0.18)\n",
            "Requirement already satisfied: pexpect in /usr/local/lib/python3.7/dist-packages (from ipython>=4->ipyparallel>=6.2.4->epyc>=1.7.2->epydemic) (4.8.0)\n",
            "Requirement already satisfied: pickleshare in /usr/local/lib/python3.7/dist-packages (from ipython>=4->ipyparallel>=6.2.4->epyc>=1.7.2->epydemic) (0.7.5)\n",
            "Requirement already satisfied: wcwidth in /usr/local/lib/python3.7/dist-packages (from prompt-toolkit<2.0.0,>=1.0.4->ipython>=4->ipyparallel>=6.2.4->epyc>=1.7.2->epydemic) (0.2.5)\n",
            "Requirement already satisfied: six>=1.9.0 in /usr/local/lib/python3.7/dist-packages (from prompt-toolkit<2.0.0,>=1.0.4->ipython>=4->ipyparallel>=6.2.4->epyc>=1.7.2->epydemic) (1.15.0)\n",
            "Requirement already satisfied: requests-toolbelt in /usr/local/lib/python3.7/dist-packages (from epydemicarchive-client->epydemic) (0.9.1)\n",
            "Requirement already satisfied: cached-property in /usr/local/lib/python3.7/dist-packages (from h5py->epyc>=1.7.2->epydemic) (1.5.2)\n",
            "Requirement already satisfied: jupyter-core>=4.6.0 in /usr/local/lib/python3.7/dist-packages (from jupyter-client->ipyparallel>=6.2.4->epyc>=1.7.2->epydemic) (4.9.2)\n",
            "Requirement already satisfied: pytz>=2017.3 in /usr/local/lib/python3.7/dist-packages (from pandas->epydemic) (2018.9)\n",
            "Requirement already satisfied: ptyprocess>=0.5 in /usr/local/lib/python3.7/dist-packages (from pexpect->ipython>=4->ipyparallel>=6.2.4->epyc>=1.7.2->epydemic) (0.7.0)\n",
            "Requirement already satisfied: idna<3,>=2.5 in /usr/local/lib/python3.7/dist-packages (from requests->epyc>=1.7.2->epydemic) (2.10)\n",
            "Requirement already satisfied: chardet<4,>=3.0.2 in /usr/local/lib/python3.7/dist-packages (from requests->epyc>=1.7.2->epydemic) (3.0.4)\n",
            "Requirement already satisfied: certifi>=2017.4.17 in /usr/local/lib/python3.7/dist-packages (from requests->epyc>=1.7.2->epydemic) (2021.10.8)\n",
            "Requirement already satisfied: urllib3!=1.25.0,!=1.25.1,<1.26,>=1.21.1 in /usr/local/lib/python3.7/dist-packages (from requests->epyc>=1.7.2->epydemic) (1.24.3)\n"
          ]
        }
      ]
    },
    {
      "cell_type": "code",
      "source": [
        "from epyc import Experiment, LabNotebook, Lab, ParallelLab\n",
        "from epydemic import SIR, ERNetwork, StochasticDynamics"
      ],
      "metadata": {
        "id": "vnEyZzBO-v1t"
      },
      "execution_count": null,
      "outputs": []
    },
    {
      "cell_type": "markdown",
      "source": [
        "## Basic setup"
      ],
      "metadata": {
        "id": "1D6-0K-XXl-f"
      }
    },
    {
      "cell_type": "code",
      "source": [
        "# create a notebook for all the results\n",
        "nb = LabNotebook()"
      ],
      "metadata": {
        "id": "3E_HSNq5_CwO"
      },
      "execution_count": null,
      "outputs": []
    },
    {
      "cell_type": "code",
      "source": [
        "# ER topology parameters\n",
        "N_small = int(1e4)\n",
        "N_large = int(1e5)\n",
        "kmean = 10\n",
        "\n",
        "# common parameters\n",
        "params = dict()\n",
        "params[ERNetwork.N] = N_small\n",
        "params[ERNetwork.KMEAN] = kmean\n",
        "params[SIR.P_INFECT] = 0.01\n",
        "params[SIR.P_INFECTED] = 0.001\n",
        "params[SIR.P_REMOVE] = 0.005"
      ],
      "metadata": {
        "id": "KZgZ8xAN_NUJ"
      },
      "execution_count": null,
      "outputs": []
    },
    {
      "cell_type": "markdown",
      "source": [
        "## Single-core performance"
      ],
      "metadata": {
        "id": "fhN1WhDUXtBd"
      }
    },
    {
      "cell_type": "markdown",
      "source": [
        "We run one experiment within a sequential lab to obtain the single-threaded (andf therefore single-core) performance, doing 10 repetitions of the experiment to and then averaging."
      ],
      "metadata": {
        "id": "tJn_1j8MXx8m"
      }
    },
    {
      "cell_type": "code",
      "source": [
        "# create the sequential lab\n",
        "lab = Lab(nb)"
      ],
      "metadata": {
        "id": "477DWUNY_INq"
      },
      "execution_count": null,
      "outputs": []
    },
    {
      "cell_type": "code",
      "source": [
        "# copy in the ]parameters\n",
        "for k in params:\n",
        "  lab[k] = params[k]"
      ],
      "metadata": {
        "id": "kqodcKEp_gzg"
      },
      "execution_count": null,
      "outputs": []
    },
    {
      "cell_type": "code",
      "source": [
        "# run the experiments\n",
        "lab['cores'] = 1\n",
        "lab['repetitions'] = range(10)\n",
        "e = StochasticDynamics(SIR(), ERNetwork())\n",
        "lab.runExperiment(e)"
      ],
      "metadata": {
        "id": "8gVzvG9n_qJq"
      },
      "execution_count": null,
      "outputs": []
    },
    {
      "cell_type": "code",
      "source": [
        "# extract the results and summary statistics\n",
        "df = nb.dataframe()\n",
        "experiments = df[(df[ERNetwork.N] == N_small) & (df['cores'] == 1)]\n",
        "t_total = (max(experiments[Experiment.END_TIME]) - min(experiments[Experiment.START_TIME])).seconds\n",
        "ts = experiments[Experiment.ELAPSED_TIME]\n",
        "print(\"Small network, single core; elapsed time {:d}s, mean {:.2f}s, variance {:.2f}s\".format(t_total, ts.mean(), ts.std()))"
      ],
      "metadata": {
        "id": "DQ0TVbWYAu3O",
        "colab": {
          "base_uri": "https://localhost:8080/"
        },
        "outputId": "2d561071-da44-4477-d54a-abe3efb0a7f6"
      },
      "execution_count": null,
      "outputs": [
        {
          "output_type": "stream",
          "name": "stdout",
          "text": [
            "Small network, single core; elapsed time 74s, mean 7.44s, variance 0.23s\n"
          ]
        }
      ]
    },
    {
      "cell_type": "markdown",
      "source": [
        "We can then try the same experiment on larger network."
      ],
      "metadata": {
        "id": "yuVFTpWxre_K"
      }
    },
    {
      "cell_type": "code",
      "source": [
        "lab[ERNetwork.N] = N_large\n",
        "lab.runExperiment(e)"
      ],
      "metadata": {
        "id": "fnop1PkTrWyh"
      },
      "execution_count": null,
      "outputs": []
    },
    {
      "cell_type": "code",
      "source": [
        "df = nb.dataframe()\n",
        "experiments = df[(df[ERNetwork.N] == N_large) & (df['cores'] == 1)]\n",
        "t_total = (max(experiments[Experiment.END_TIME]) - min(experiments[Experiment.START_TIME])).seconds\n",
        "ts = experiments[Experiment.ELAPSED_TIME]\n",
        "print(\"Large network, elapsed time {:d}s, mean {:.2f}s, variance {:.2f}s\".format(t_total, ts.mean(), ts.std()))"
      ],
      "metadata": {
        "colab": {
          "base_uri": "https://localhost:8080/"
        },
        "id": "oumqBMFCratF",
        "outputId": "6fa2b08e-2ab1-4bfb-e304-60d9f0441b7c"
      },
      "execution_count": null,
      "outputs": [
        {
          "output_type": "stream",
          "name": "stdout",
          "text": [
            "Large network, elapsed time 930s, mean 93.09s, variance 0.56s\n"
          ]
        }
      ]
    },
    {
      "cell_type": "markdown",
      "source": [
        "## Multicore performance"
      ],
      "metadata": {
        "id": "K5DSDE8WZJ1a"
      }
    },
    {
      "cell_type": "markdown",
      "source": [
        "We now test on multiple cores, using all the cores that the machine reports itself to have and running 10 repetitions for each core."
      ],
      "metadata": {
        "id": "fh9GeIFqZMOy"
      }
    },
    {
      "cell_type": "code",
      "source": [
        "# create the parallel lab\n",
        "plab = ParallelLab(notebook=nb)\n",
        "ncores = plab.numberOfCores()"
      ],
      "metadata": {
        "id": "6l-PftEGKBNS"
      },
      "execution_count": null,
      "outputs": []
    },
    {
      "cell_type": "code",
      "source": [
        "# copy over the basic parameters\n",
        "for k in params:\n",
        "  plab[k] = params[k]"
      ],
      "metadata": {
        "id": "In4IL_RcFGSj"
      },
      "execution_count": null,
      "outputs": []
    },
    {
      "cell_type": "code",
      "source": [
        "plab['cores'] = ncores\n",
        "plab['repetitions'] = range(10 * ncores)\n",
        "e = StochasticDynamics(SIR(), ERNetwork())\n",
        "plab.runExperiment(e)"
      ],
      "metadata": {
        "id": "XXKy2ZK3KLcA"
      },
      "execution_count": null,
      "outputs": []
    },
    {
      "cell_type": "code",
      "source": [
        "df = nb.dataframe()\n",
        "experiments = df[(df[ERNetwork.N] == N_small) & (df['cores'] == ncores)]\n",
        "t_total = (max(experiments[Experiment.END_TIME]) - min(experiments[Experiment.START_TIME])).seconds\n",
        "ts = experiments[Experiment.ELAPSED_TIME]\n",
        "print(\"Small network, {:d} cores, elapsed time {:d}s, mean {:.2f}s, variance {:.2f}s\".format(ncores, t_total, ts.mean(), ts.std()))"
      ],
      "metadata": {
        "id": "mOHARA-vKf0x",
        "colab": {
          "base_uri": "https://localhost:8080/"
        },
        "outputId": "adfcb362-685a-43fa-d7a8-dbd1b87786d9"
      },
      "execution_count": null,
      "outputs": [
        {
          "output_type": "stream",
          "name": "stdout",
          "text": [
            "Small network, 4 cores, elapsed time 69s, mean 6.83s, variance 0.08s\n"
          ]
        }
      ]
    },
    {
      "cell_type": "markdown",
      "source": [
        "And then again on the larger network."
      ],
      "metadata": {
        "id": "VxHL-UzyZlGe"
      }
    },
    {
      "cell_type": "code",
      "source": [
        "plab[ERNetwork.N] = N_large\n",
        "plab.runExperiment(e)"
      ],
      "metadata": {
        "id": "NhcwZpHkGWcT"
      },
      "execution_count": null,
      "outputs": []
    },
    {
      "cell_type": "code",
      "source": [
        "df = nb.dataframe()\n",
        "experiments = df[(df[ERNetwork.N] == N_large) & (df['cores'] == ncores)]\n",
        "t_total = (max(experiments[Experiment.END_TIME]) - min(experiments[Experiment.START_TIME])).seconds\n",
        "ts = experiments[Experiment.ELAPSED_TIME]\n",
        "print(\"Large network, {:d} cores, elapsed time {:d}s, mean {:.2f}s, variance {:.2f}s\".format(ncores, t_total, ts.mean(), ts.std()))"
      ],
      "metadata": {
        "id": "avIQCI6fU22-",
        "colab": {
          "base_uri": "https://localhost:8080/"
        },
        "outputId": "2035bbeb-4f7c-4035-bf5b-8fde134041ab"
      },
      "execution_count": null,
      "outputs": [
        {
          "output_type": "stream",
          "name": "stdout",
          "text": [
            "Large network, 4 cores, elapsed time 869s, mean 86.51s, variance 1.06s\n"
          ]
        }
      ]
    },
    {
      "cell_type": "code",
      "source": [],
      "metadata": {
        "id": "LipQMYj-u7jV"
      },
      "execution_count": null,
      "outputs": []
    }
  ]
}